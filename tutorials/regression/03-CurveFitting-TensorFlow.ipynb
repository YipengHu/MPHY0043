{
 "cells": [
  {
   "cell_type": "markdown",
   "source": [
    "# 3 Curve Fitting (TensorFlow)\n",
    "Two methods are used to fit a curve in this tutorial, using [TensorFlow](https://www.tensorflow.org/):\n",
    "- Direct solution using least-squares method - this is the same method used in the previous tutorial that uses NumPy \n",
    "- Iterative optimisation using stochastic gradient descent"
   ],
   "metadata": {
    "colab_type": "text",
    "id": "u6-He3cXBKfM"
   }
  },
  {
   "cell_type": "markdown",
   "source": [
    "## 3.1 Data\n",
    "First, we sample $n$ observed data from the underlying polynomial defined by weights $w$:"
   ],
   "metadata": {
    "colab_type": "text",
    "id": "pU5v5NAxBKfQ"
   }
  },
  {
   "cell_type": "code",
   "execution_count": 9,
   "source": [
    "import random\n",
    "import numpy as np\n",
    "\n",
    "# get ground-truth data from the \"true\" model \n",
    "n = 100 \n",
    "w = [4, 3, 2, 1]\n",
    "deg = len(w)-1\n",
    "x = np.linspace(-1,1,n)[:,np.newaxis]\n",
    "t = np.matmul(np.power(np.reshape(x,[-1,1]), \n",
    "                       np.linspace(deg,0,deg+1)), w)\n",
    "std_noise = 0.2\n",
    "t_observed = np.reshape(\n",
    "    [t[idx]+random.gauss(0,std_noise) for idx in range(n)],\n",
    "    [-1,1])"
   ],
   "outputs": [],
   "metadata": {
    "colab": {},
    "colab_type": "code",
    "id": "i2T4JW1SBKfU"
   }
  },
  {
   "cell_type": "markdown",
   "source": [
    "## 3.2 Least-Squares Solution\n",
    "This is mathematcally the same method used in previous NumPy tutorial. The advantage using TensorFlow here is not particularly obvious."
   ],
   "metadata": {
    "colab_type": "text",
    "id": "xUHDEl-yBKft"
   }
  },
  {
   "cell_type": "code",
   "execution_count": 20,
   "source": [
    "import tensorflow as tf\n",
    "\n",
    "X = tf.pow(x, tf.linspace(deg,0,deg+1))\n",
    "\n",
    "w_lstsq = tf.linalg.lstsq(X, t_observed)\n",
    "print(w_lstsq)"
   ],
   "outputs": [
    {
     "output_type": "stream",
     "name": "stdout",
     "text": [
      "tf.Tensor(\n",
      "[[4.05248568]\n",
      " [2.95396288]\n",
      " [1.956563  ]\n",
      " [1.00741483]], shape=(4, 1), dtype=float64)\n"
     ]
    }
   ],
   "metadata": {
    "colab": {
     "base_uri": "https://localhost:8080/",
     "height": 85
    },
    "colab_type": "code",
    "executionInfo": {
     "elapsed": 484,
     "status": "ok",
     "timestamp": 1540321798797,
     "user": {
      "displayName": "Yipeng Hu",
      "photoUrl": "",
      "userId": "18139436242730223489"
     },
     "user_tz": -60
    },
    "id": "DYZu3MyaBKfw",
    "outputId": "3c7e3462-a1be-4d44-ca7c-70fc54d692b2"
   }
  },
  {
   "cell_type": "markdown",
   "source": [
    "## 3.3 Stochastic Gradient Descend Method\n",
    "Instead of least-squares, weights can be optimised by minimising a loss function between the predicted- and observed target values, using [SGD](https://en.wikipedia.org/wiki/Stochastic_gradient_descent). It is not an efficient method for this curve fitting problem, is only for the purpose of demonstrating how an iterative method can be implemented in TensorFlow."
   ],
   "metadata": {
    "colab_type": "text",
    "id": "qhy2ym8FBKf8"
   }
  },
  {
   "cell_type": "code",
   "execution_count": 79,
   "source": [
    "w_sgd = tf.Variable(initial_value=tf.zeros([deg+1,1],tf.float64))\n",
    "polynomial = lambda x_input : tf.matmul(x_input, w_sgd)\n",
    "\n",
    "optimizer = tf.optimizers.SGD(5e-3)\n",
    "total_iter = int(2e4)\n",
    "for step in range(total_iter):\n",
    "    index = step % n\n",
    "    \n",
    "    with tf.GradientTape() as g:\n",
    "        loss = tf.reduce_mean((polynomial(X[None,index,:])-t_observed[index])**2) #MSE\n",
    "        \n",
    "    gradients = g.gradient(loss, [w_sgd])\n",
    "    optimizer.apply_gradients(zip(gradients, [w_sgd]))\n",
    "    \n",
    "    if (step%1000)==0:\n",
    "        print('Step %d: Loss=%f' % (step, loss))\n",
    "\n",
    "print(w_sgd)"
   ],
   "outputs": [
    {
     "output_type": "stream",
     "name": "stdout",
     "text": [
      "Step 0: Loss=4.267816\n",
      "Step 1000: Loss=0.037259\n",
      "Step 2000: Loss=0.042375\n",
      "Step 3000: Loss=0.133096\n",
      "Step 4000: Loss=0.154306\n",
      "Step 5000: Loss=0.136392\n",
      "Step 6000: Loss=0.108063\n",
      "Step 7000: Loss=0.081463\n",
      "Step 8000: Loss=0.060006\n",
      "Step 9000: Loss=0.043758\n",
      "Step 10000: Loss=0.031807\n",
      "Step 11000: Loss=0.023136\n",
      "Step 12000: Loss=0.016880\n",
      "Step 13000: Loss=0.012372\n",
      "Step 14000: Loss=0.009123\n",
      "Step 15000: Loss=0.006774\n",
      "Step 16000: Loss=0.005071\n",
      "Step 17000: Loss=0.003832\n",
      "Step 18000: Loss=0.002925\n",
      "Step 19000: Loss=0.002258\n",
      "<tf.Variable 'Variable:0' shape=(4, 1) dtype=float64, numpy=\n",
      "array([[3.99621521],\n",
      "       [2.96221558],\n",
      "       [1.99494511],\n",
      "       [1.00508842]])>\n"
     ]
    }
   ],
   "metadata": {
    "colab": {
     "base_uri": "https://localhost:8080/",
     "height": 1377
    },
    "colab_type": "code",
    "executionInfo": {
     "elapsed": 4030,
     "status": "ok",
     "timestamp": 1540321803016,
     "user": {
      "displayName": "Yipeng Hu",
      "photoUrl": "",
      "userId": "18139436242730223489"
     },
     "user_tz": -60
    },
    "id": "x2TDAsD-BKf_",
    "outputId": "01e04e4a-df38-41c5-9c56-db6a1109ed1d"
   }
  },
  {
   "cell_type": "markdown",
   "source": [
    "## Questions\n",
    "- Try other optimisation hyperparameters, such as different optimiser, learning rate, number of iterations.\n",
    "- Try add regularisers and different loss functions.\n",
    "- Would batch gradient descent or minibatch gradient descent improve the optimisation?\n",
    "- Would higher-degree models more prone to overfitting?\n"
   ],
   "metadata": {
    "colab_type": "text",
    "id": "FxVSxLyeVdXb"
   }
  }
 ],
 "metadata": {
  "colab": {
   "collapsed_sections": [],
   "name": "tutorials_3-CurveFitting-TensorFlow.ipynb",
   "provenance": [],
   "version": "0.3.2"
  },
  "kernelspec": {
   "display_name": "Python 3",
   "language": "python",
   "name": "python3"
  },
  "language_info": {
   "codemirror_mode": {
    "name": "ipython",
    "version": 3
   },
   "file_extension": ".py",
   "mimetype": "text/x-python",
   "name": "python",
   "nbconvert_exporter": "python",
   "pygments_lexer": "ipython3",
   "version": "3.9.6"
  }
 },
 "nbformat": 4,
 "nbformat_minor": 1
}
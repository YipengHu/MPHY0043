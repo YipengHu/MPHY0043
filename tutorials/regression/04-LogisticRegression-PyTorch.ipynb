{
 "cells": [
  {
   "cell_type": "code",
   "execution_count": null,
   "source": [
    "# 4 Logistic data regression"
   ],
   "outputs": [],
   "metadata": {}
  },
  {
   "cell_type": "code",
   "execution_count": 1,
   "source": [
    "import torch"
   ],
   "outputs": [],
   "metadata": {}
  },
  {
   "cell_type": "markdown",
   "source": [
    "## 4.1 Example data\n",
    "- input is a set of three different data sources (3 columns), with possible scenarios (8 rows)\n",
    "- output is the ground-truth diagnosis (1-positive, 0-negative)"
   ],
   "metadata": {}
  },
  {
   "cell_type": "code",
   "execution_count": 2,
   "source": [
    "\n",
    "## an example of simplified rules\n",
    "# input - 3 columns are individual modalities \n",
    "X = torch.tensor([\n",
    "    [1.0, 0.0, 0.0],\n",
    "    [1.0, 0.0, 1.0],\n",
    "    [1.0, 1.0, 0.0],\n",
    "    [1.0, 1.0, 1.0],\n",
    "    [0.0, 0.0, 0.0],\n",
    "    [0.0, 0.0, 1.0],\n",
    "    [0.0, 1.0, 0.0],\n",
    "    [0.0, 1.0, 1.0]   \n",
    "    ])\n",
    "# output - 0 and 1 being negative and positive, respectively\n",
    "y = torch.tensor([1.0, 1.0, 1.0, 1.0, 0.0, 0.0, 1.0, 1.0]).unsqueeze(1) # to test invariance to 3rd var X[,2]\n"
   ],
   "outputs": [],
   "metadata": {}
  },
  {
   "cell_type": "markdown",
   "source": [
    "## 4.2 Linear regression\n",
    "### Weighted-sum without bias: X*a=y "
   ],
   "metadata": {}
  },
  {
   "cell_type": "code",
   "execution_count": 3,
   "source": [
    "# least-squares solution: (X'X)^(-1)(X'X)a = (X'X)^(-1)X'y => a = (X'X)^(-1)X'y\n",
    "a_nobias = torch.linalg.pinv(X) @ y\n",
    "res_nobias = X @ a_nobias - y\n",
    "print(a_nobias) # modality weights\n",
    "print(torch.mean(res_nobias**2)) # mean-square residual\n",
    "# NB: large residuals and a[2] ~= 0\n"
   ],
   "outputs": [
    {
     "output_type": "stream",
     "name": "stdout",
     "text": [
      "tensor([[0.6250],\n",
      "        [0.6250],\n",
      "        [0.1250]])\n",
      "tensor(0.0781)\n"
     ]
    }
   ],
   "metadata": {}
  },
  {
   "cell_type": "markdown",
   "source": [
    "### Weighted-sum with bias: [X,1s]*a=y"
   ],
   "metadata": {}
  },
  {
   "cell_type": "code",
   "execution_count": 4,
   "source": [
    "X1 = torch.cat([X,torch.ones(8,1)],dim=1)\n",
    "a = torch.linalg.pinv(X1) @ y\n",
    "res = X1 @ a - y\n",
    "print(a)  # modality weights\n",
    "print(torch.mean(res**2))  # mean-square residual\n",
    "# NB: smaller residuals and now a[2] = 0"
   ],
   "outputs": [
    {
     "output_type": "stream",
     "name": "stdout",
     "text": [
      "tensor([[5.0000e-01],\n",
      "        [5.0000e-01],\n",
      "        [2.9802e-08],\n",
      "        [2.5000e-01]])\n",
      "tensor(0.0625)\n"
     ]
    }
   ],
   "metadata": {}
  },
  {
   "cell_type": "markdown",
   "source": [
    "## 4.3 Logistic regression"
   ],
   "metadata": {}
  },
  {
   "cell_type": "code",
   "execution_count": 5,
   "source": [
    "model = torch.nn.Sequential(torch.nn.Linear(3, 1, bias=True), torch.nn.Sigmoid())\n",
    "cross_entropy = torch.nn.BCELoss()\n",
    "optimiser = torch.optim.Adam(model.parameters(), lr=0.01, weight_decay=1e-6)\n",
    "\n",
    "for iter in range(int(1e4)):\n",
    "    optimiser.zero_grad()\n",
    "    pred = model(X) # bias was dealt in nn.Linear\n",
    "    loss = cross_entropy(pred, y)\n",
    "    loss.backward()\n",
    "    optimiser.step()\n",
    "\n",
    "a_lreg = torch.cat([model[0].weight.data.squeeze(), model[0].bias.data],0)\n",
    "res_lreg = pred - y\n",
    "\n",
    "print(a_lreg)  # modality weights\n",
    "print(torch.mean(res_lreg**2))  # mean-square residual"
   ],
   "outputs": [
    {
     "output_type": "stream",
     "name": "stdout",
     "text": [
      "tensor([15.6619, 15.8789, -0.1659, -7.3679])\n",
      "tensor(1.1634e-07, grad_fn=<MeanBackward0>)\n"
     ]
    }
   ],
   "metadata": {}
  }
 ],
 "metadata": {
  "kernelspec": {
   "display_name": "Python 3",
   "language": "python",
   "name": "python3"
  },
  "language_info": {
   "codemirror_mode": {
    "name": "ipython",
    "version": 3
   },
   "file_extension": ".py",
   "mimetype": "text/x-python",
   "name": "python",
   "nbconvert_exporter": "python",
   "pygments_lexer": "ipython3",
   "version": "3.9.6"
  }
 },
 "nbformat": 4,
 "nbformat_minor": 2
}